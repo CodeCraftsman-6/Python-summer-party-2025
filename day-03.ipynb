{
  "cells": [
    {
      "cell_type": "markdown",
      "metadata": {},
      "source": [
        "# Day 3: Disney Parks Guest Spending Behavior"
      ]
    },
    {
      "cell_type": "markdown",
      "metadata": {},
      "source": [
        "You are a data analyst working with the Disney Parks revenue team to understand nuanced guest spending patterns across different park experiences. The team wants to develop a comprehensive view of visitor purchasing behaviors. Your goal is to uncover meaningful insights that can drive personalized marketing strategies."
      ]
    },
    {
      "cell_type": "code",
      "metadata": {},
      "execution_count": null,
      "outputs": [],
      "source": "import pandas as pd\nimport numpy as np\n\nfct_guest_spending_data = [\n  {\n    \"guest_id\": 1,\n    \"visit_date\": \"2024-07-05\",\n    \"amount_spent\": 50,\n    \"park_experience_type\": \"Attraction\"\n  },\n  {\n    \"guest_id\": 2,\n    \"visit_date\": \"2024-07-06\",\n    \"amount_spent\": 30,\n    \"park_experience_type\": \"Dining\"\n  },\n  {\n    \"guest_id\": 3,\n    \"visit_date\": \"2024-07-10\",\n    \"amount_spent\": 20.5,\n    \"park_experience_type\": \"Retail\"\n  },\n  {\n    \"guest_id\": 4,\n    \"visit_date\": \"2024-07-12\",\n    \"amount_spent\": 40,\n    \"park_experience_type\": \"Entertainment\"\n  },\n  {\n    \"guest_id\": 1,\n    \"visit_date\": \"2024-07-15\",\n    \"amount_spent\": 35,\n    \"park_experience_type\": \"Dining\"\n  },\n  {\n    \"guest_id\": 5,\n    \"visit_date\": \"2024-07-20\",\n    \"amount_spent\": 60,\n    \"park_experience_type\": \"Attraction\"\n  },\n  {\n    \"guest_id\": 6,\n    \"visit_date\": \"2024-07-25\",\n    \"amount_spent\": 25,\n    \"park_experience_type\": \"Retail\"\n  },\n  {\n    \"guest_id\": 1,\n    \"visit_date\": \"2024-08-03\",\n    \"amount_spent\": 55,\n    \"park_experience_type\": \"Attraction\"\n  },\n  {\n    \"guest_id\": 1,\n    \"visit_date\": \"2024-08-15\",\n    \"amount_spent\": 45,\n    \"park_experience_type\": \"Dining\"\n  },\n  {\n    \"guest_id\": 2,\n    \"visit_date\": \"2024-08-05\",\n    \"amount_spent\": 22,\n    \"park_experience_type\": \"Retail\"\n  },\n  {\n    \"guest_id\": 2,\n    \"visit_date\": \"2024-08-20\",\n    \"amount_spent\": 38,\n    \"park_experience_type\": \"Entertainment\"\n  },\n  {\n    \"guest_id\": 7,\n    \"visit_date\": \"2024-08-10\",\n    \"amount_spent\": 15,\n    \"park_experience_type\": \"Character Meet\"\n  },\n  {\n    \"guest_id\": 3,\n    \"visit_date\": \"2024-08-25\",\n    \"amount_spent\": 28,\n    \"park_experience_type\": \"Retail\"\n  },\n  {\n    \"guest_id\": 3,\n    \"visit_date\": \"2024-08-27\",\n    \"amount_spent\": 32,\n    \"park_experience_type\": \"Dining\"\n  },\n  {\n    \"guest_id\": 1,\n    \"visit_date\": \"2024-09-02\",\n    \"amount_spent\": 65,\n    \"park_experience_type\": \"Attraction\"\n  },\n  {\n    \"guest_id\": 8,\n    \"visit_date\": \"2024-09-05\",\n    \"amount_spent\": 50,\n    \"park_experience_type\": \"Retail\"\n  },\n  {\n    \"guest_id\": 9,\n    \"visit_date\": \"2024-09-15\",\n    \"amount_spent\": 40,\n    \"park_experience_type\": \"Dining\"\n  },\n  {\n    \"guest_id\": 10,\n    \"visit_date\": \"2024-09-20\",\n    \"amount_spent\": 70,\n    \"park_experience_type\": \"Entertainment\"\n  },\n  {\n    \"guest_id\": 1,\n    \"visit_date\": \"2024-09-25\",\n    \"amount_spent\": 35,\n    \"park_experience_type\": \"Dining\"\n  },\n  {\n    \"guest_id\": 8,\n    \"visit_date\": \"2024-09-28\",\n    \"amount_spent\": 10,\n    \"park_experience_type\": \"Character Meet\"\n  }\n]\nfct_guest_spending = pd.DataFrame(fct_guest_spending_data)\n"
    },
    {
      "cell_type": "markdown",
      "metadata": {},
      "source": [
        "## Question 1\n\nWhat is the average spending per guest per visit for each park experience type during July 2024? Ensure that park experience types with no recorded transactions are shown with an average spending of 0.0. This analysis helps establish baseline spending differences essential for later segmentation."
      ]
    },
    {
      "cell_type": "code",
      "metadata": {},
      "execution_count": null,
      "outputs": [],
      "source": "import pandas as pd\n\n# Data\nfct_guest_spending = pd.DataFrame({\n    'guest_id': [1,2,3,4,1,5,6,1,1,2,2,7,3,3,1,8,9,10,1],\n    'visit_date': pd.to_datetime([\n        '2024-07-05','2024-07-06','2024-07-10','2024-07-12','2024-07-15',\n        '2024-07-20','2024-07-25','2024-08-03','2024-08-15','2024-08-05',\n        '2024-08-20','2024-08-10','2024-08-25','2024-08-27','2024-09-02',\n        '2024-09-05','2024-09-15','2024-09-20','2024-09-25'\n    ]),\n    'amount_spent': [\n        50,30,20.5,40,35,60,25,55,45,22,38,15,28,32,65,50,40,70,35\n    ],\n    'park_experience_type': [\n        'Attraction','Dining','Retail','Entertainment','Dining','Attraction',\n        'Retail','Attraction','Dining','Retail','Entertainment','Character Meet',\n        'Retail','Dining','Attraction','Retail','Dining','Entertainment','Dining'\n    ]\n})\n\n# Step 1: All unique park experience types\nall_types = pd.DataFrame({'park_experience_type': fct_guest_spending['park_experience_type'].unique()})\n\n# Step 2: Filter for July 2024\njuly_data = fct_guest_spending[\n    (fct_guest_spending['visit_date'].dt.year == 2024) &\n    (fct_guest_spending['visit_date'].dt.month == 7)\n]\n\n# Step 3: Average spending per guest per visit for July 2024\njuly_avg = july_data.groupby('park_experience_type', as_index=False)['amount_spent'].mean()\n\n# Step 4: Merge to include all types (fill missing with 0.0)\nresult = all_types.merge(july_avg, on='park_experience_type', how='left')\nresult['amount_spent'] = result['amount_spent'].fillna(0.0).round(2)\n\n# Step 5: Output\nprint(\"Average spending per guest per visit for each park experience type — July 2024:\")\nprint(result)"
    },
    {
      "cell_type": "markdown",
      "metadata": {},
      "source": [
        "## Question 2\n\nFor guests who visited our parks more than once in August 2024, what is the difference in spending between their first and their last visit? This investigation, using sequential analysis, will reveal any shifts in guest spending behavior over multiple visits."
      ]
    },
    {
      "cell_type": "code",
      "metadata": {},
      "execution_count": null,
      "outputs": [],
      "source": "import pandas as pd\n\n# Example data\ndata = {\n    'guest_id': [101, 101, 102, 102, 102, 103, 104, 104],\n    'visit_date': [\n        '2024-08-01', '2024-08-15',\n        '2024-08-05', '2024-08-10', '2024-08-20',\n        '2024-08-08',\n        '2024-08-03', '2024-08-25'\n    ],\n    'spending': [120, 150, 80, 90, 100, 50, 200, 180]\n}\n\ndf = pd.DataFrame(data)\n\n# Convert visit_date to datetime\ndf['visit_date'] = pd.to_datetime(df['visit_date'])\n\n# Filter for August 2024\naugust_df = df[(df['visit_date'].dt.year == 2024) & (df['visit_date'].dt.month == 8)]\n\n# Rank visits within each guest by visit_date\naugust_df['visit_rank'] = august_df.groupby('guest_id')['visit_date'].rank(method='first')\n\n# Keep only guests with more than one visit\nmulti_visitors = august_df.groupby('guest_id').filter(lambda x: len(x) > 1)\n\n# Get first and last spending\nfirst_visits = multi_visitors[multi_visitors['visit_rank'] == 1][['guest_id', 'spending']]\nlast_visits = multi_visitors[multi_visitors['visit_rank'] == multi_visitors.groupby('guest_id')['visit_rank'].transform('max')][['guest_id', 'spending']]\n\n# Merge to calculate difference\nmerged = pd.merge(first_visits, last_visits, on='guest_id', suffixes=('_first', '_last'))\nmerged['spending_diff'] = merged['spending_last'] - merged['spending_first']\n\nprint(merged[['guest_id', 'spending_diff']])"
    },
    {
      "cell_type": "markdown",
      "metadata": {},
      "source": [
        "## Question 3\n\nIn September 2024, how can guests be categorized into distinct spending segments such as Low, Medium, and High based on their total spending? Use the following thresholds for categorization: \n-Low: Includes values from $0 up to, but not including, $50.\n-Medium: Includes values from $50 up to, but not including, $100.\n-High: Includes values from $100 and above. \nExclude guests who did not make any purchases in the period."
      ]
    },
    {
      "cell_type": "code",
      "metadata": {},
      "execution_count": null,
      "outputs": [],
      "source": "import pandas as pd\n\n# Sample data\ndata = [\n    (1, \"2024-07-05\", 50, \"Attraction\"),\n    (2, \"2024-07-06\", 30, \"Dining\"),\n    (3, \"2024-07-10\", 20.5, \"Retail\"),\n    (4, \"2024-07-12\", 40, \"Entertainment\"),\n    (1, \"2024-07-15\", 35, \"Dining\"),\n    (5, \"2024-07-20\", 60, \"Attraction\"),\n    (6, \"2024-07-25\", 25, \"Retail\"),\n    (1, \"2024-08-03\", 55, \"Attraction\"),\n    (1, \"2024-08-15\", 45, \"Dining\"),\n    (2, \"2024-08-05\", 22, \"Retail\"),\n    (2, \"2024-08-20\", 38, \"Entertainment\"),\n    (7, \"2024-08-10\", 15, \"Character Meet\"),\n    (3, \"2024-08-25\", 28, \"Retail\"),\n    (3, \"2024-08-27\", 32, \"Dining\"),\n    (1, \"2024-09-02\", 65, \"Attraction\"),\n    (8, \"2024-09-05\", 50, \"Retail\"),\n    (9, \"2024-09-15\", 40, \"Dining\"),\n    (10, \"2024-09-20\", 70, \"Entertainment\"),\n]\n\n# Create DataFrame\ndf = pd.DataFrame(data, columns=[\"guest_id\", \"visit_date\", \"amount_spent\", \"park_experience_type\"])\n\n# Convert visit_date to datetime\ndf[\"visit_date\"] = pd.to_datetime(df[\"visit_date\"])\n\n# Filter for September 2024 only\nsept_df = df[(df[\"visit_date\"].dt.year == 2024) & (df[\"visit_date\"].dt.month == 9)]\n\n# Group by guest and sum spending\nguest_totals = sept_df.groupby(\"guest_id\")[\"amount_spent\"].sum().reset_index()\n\n# Remove guests who spent 0\nguest_totals = guest_totals[guest_totals[\"amount_spent\"] > 0]\n\n# Categorize spending\ndef categorize_spending(amount):\n    if amount < 50:\n        return \"Low\"\n    elif amount < 100:\n        return \"Medium\"\n    else:\n        return \"High\"\n\nguest_totals[\"spending_category\"] = guest_totals[\"amount_spent\"].apply(categorize_spending)\n\nprint(guest_totals)"
    },
    {
      "cell_type": "markdown",
      "metadata": {},
      "source": [
        "Made with ❤️ by [Interview Master](https://www.interviewmaster.ai)"
      ]
    }
  ],
  "metadata": {
    "kernelspec": {
      "name": "python3",
      "language": "python",
      "display_name": "Python 3"
    },
    "language_info": {
      "name": "python",
      "version": "3",
      "mimetype": "text/x-python",
      "file_extension": ".py"
    }
  },
  "nbformat": 4,
  "nbformat_minor": 5
}